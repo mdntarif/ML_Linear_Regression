{
 "cells": [
  {
   "cell_type": "code",
   "execution_count": null,
   "id": "45552565-6f1a-4380-8cc1-ade4ecde1ef9",
   "metadata": {},
   "outputs": [],
   "source": [
    "import pandas as pd\n",
    "from matplotlib import pyplot as plt"
   ]
  },
  {
   "cell_type": "code",
   "execution_count": null,
   "id": "7983b841-3d9b-4f6c-ab9b-ae410b42564e",
   "metadata": {},
   "outputs": [],
   "source": [
    "df = pd.read_csv(\"car driving risk analysis.csv\", sep=',')"
   ]
  },
  {
   "cell_type": "code",
   "execution_count": null,
   "id": "ee13fd65-3a60-4d80-aef5-3e49712e449c",
   "metadata": {},
   "outputs": [],
   "source": [
    "df.head()"
   ]
  },
  {
   "cell_type": "markdown",
   "id": "f8ce87bf-a27a-4671-bb39-cfc1786d3b07",
   "metadata": {},
   "source": [
    "# EDA"
   ]
  },
  {
   "cell_type": "code",
   "execution_count": null,
   "id": "ba990562-9e2e-4883-9ae7-febaaf3794f8",
   "metadata": {},
   "outputs": [],
   "source": [
    "plt.scatter(df['speed'] , df['risk'])"
   ]
  },
  {
   "cell_type": "code",
   "execution_count": null,
   "id": "79fe2f52-f6b3-476c-8dee-703f610be0d1",
   "metadata": {},
   "outputs": [],
   "source": [
    "df.isnull().sum()"
   ]
  },
  {
   "cell_type": "code",
   "execution_count": null,
   "id": "cdd11024-04a0-436a-939e-d3d8962f5df7",
   "metadata": {},
   "outputs": [],
   "source": [
    "x = df.drop('risk', axis=1)\n",
    "x.head()"
   ]
  },
  {
   "cell_type": "code",
   "execution_count": null,
   "id": "87521503-076c-4e48-9300-7a4555285388",
   "metadata": {},
   "outputs": [],
   "source": [
    "y = df[['risk']]\n",
    "y.head()"
   ]
  },
  {
   "cell_type": "code",
   "execution_count": null,
   "id": "3dbfed8e-fd97-4fac-bc39-68915897a41c",
   "metadata": {},
   "outputs": [],
   "source": [
    "plt.scatter(x.mean() , y.mean(), color='red')\n",
    "plt.scatter(df['speed'] , df['risk'])"
   ]
  },
  {
   "cell_type": "markdown",
   "id": "f547a20b-8b3c-49c3-a29c-402edc8bc58d",
   "metadata": {},
   "source": [
    "# Linear Regression"
   ]
  },
  {
   "cell_type": "code",
   "execution_count": null,
   "id": "51e5198a-3711-48ae-a2ad-8ad0d9b409d7",
   "metadata": {},
   "outputs": [],
   "source": [
    "from sklearn.linear_model import LinearRegression"
   ]
  },
  {
   "cell_type": "code",
   "execution_count": null,
   "id": "b83ca374-3a2a-4742-874d-0b497bdc139e",
   "metadata": {},
   "outputs": [],
   "source": [
    "reg = LinearRegression()"
   ]
  },
  {
   "cell_type": "code",
   "execution_count": null,
   "id": "7e2e2680-b742-4fce-bb84-81f8a05b0c09",
   "metadata": {},
   "outputs": [],
   "source": [
    "reg.fit(x, y)"
   ]
  },
  {
   "cell_type": "code",
   "execution_count": null,
   "id": "0011db5e-0d69-42ce-9814-2b4fdd9fea7c",
   "metadata": {},
   "outputs": [],
   "source": [
    "df['Predicted_y'] = reg.predict(x)\n",
    "df.head()"
   ]
  },
  {
   "cell_type": "code",
   "execution_count": null,
   "id": "9733bfe1-6830-4315-96f3-89358b9aab65",
   "metadata": {},
   "outputs": [],
   "source": [
    "reg.predict([[280]])"
   ]
  },
  {
   "cell_type": "code",
   "execution_count": null,
   "id": "952fe3a2-2236-4770-baa7-b1f14df8bfc8",
   "metadata": {},
   "outputs": [],
   "source": [
    "plt.plot(x, reg.predict(x))\n",
    "\n",
    "plt.scatter(x.mean() , y.mean(), color='red')\n",
    "plt.scatter(df['speed'] , df['risk'])"
   ]
  },
  {
   "cell_type": "markdown",
   "id": "36274b35-4012-4b9c-ab35-97c978bd4c12",
   "metadata": {},
   "source": [
    "# Model accuracy"
   ]
  },
  {
   "cell_type": "code",
   "execution_count": null,
   "id": "5365791b-48b4-4eb8-a43d-3627291eef10",
   "metadata": {},
   "outputs": [],
   "source": [
    "reg.score(x,y)"
   ]
  },
  {
   "cell_type": "code",
   "execution_count": null,
   "id": "398dbb66-7184-4822-ba6d-38f902cbc259",
   "metadata": {},
   "outputs": [],
   "source": []
  }
 ],
 "metadata": {
  "kernelspec": {
   "display_name": "Python 3 (ipykernel)",
   "language": "python",
   "name": "python3"
  },
  "language_info": {
   "codemirror_mode": {
    "name": "ipython",
    "version": 3
   },
   "file_extension": ".py",
   "mimetype": "text/x-python",
   "name": "python",
   "nbconvert_exporter": "python",
   "pygments_lexer": "ipython3",
   "version": "3.8.10"
  }
 },
 "nbformat": 4,
 "nbformat_minor": 5
}
